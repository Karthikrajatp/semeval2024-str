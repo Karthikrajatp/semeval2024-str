{
  "nbformat": 4,
  "nbformat_minor": 0,
  "metadata": {
    "colab": {
      "private_outputs": true,
      "provenance": []
    },
    "kernelspec": {
      "name": "python3",
      "display_name": "Python 3"
    },
    "language_info": {
      "name": "python"
    }
  },
  "cells": [
    {
      "cell_type": "code",
      "source": [
        "import pandas as pd\n",
        "import numpy as np\n",
        "import matplotlib.pyplot as plt"
      ],
      "metadata": {
        "id": "mHKsi_tIH3Lt"
      },
      "execution_count": null,
      "outputs": []
    },
    {
      "cell_type": "code",
      "source": [
        "languages = {\n",
        "    'arq':'Algerian Arabic',\n",
        "    'ary': 'Moroccan Arabic',\n",
        "    'eng':'English',\n",
        "    'kin':'Kinyarwanda',\n",
        "    'hau':'Hausa',\n",
        "    'mar':'Marathi',\n",
        "    'tel': 'Telugu'\n",
        "}"
      ],
      "metadata": {
        "id": "PtYi8CqYP9V1"
      },
      "execution_count": null,
      "outputs": []
    },
    {
      "cell_type": "code",
      "source": [
        "import matplotlib.pyplot as plt\n",
        "import seaborn as sns\n",
        "\n",
        "def plot_curve(lang):\n",
        "\n",
        "    test_df=pd.read_csv(f'https://raw.githubusercontent.com/semantic-textual-relatedness/Semantic_Relatedness_SemEval2024/main/Track%20A/{lang}/{lang}_test_with_labels.csv')\n",
        "    train_df=pd.read_csv(f'https://raw.githubusercontent.com/semantic-textual-relatedness/Semantic_Relatedness_SemEval2024/main/Track%20A/{lang}/{lang}_train.csv')\n",
        "    dev_df=pd.read_csv(f'https://raw.githubusercontent.com/semantic-textual-relatedness/Semantic_Relatedness_SemEval2024/main/Track%20A/{lang}/{lang}_dev_with_labels.csv')\n",
        "\n",
        "\n",
        "    train_df = pd.concat([train_df,dev_df], ignore_index=True)\n",
        "\n",
        "    # Set up the figure and axes\n",
        "    plt.figure(figsize=(10, 6))\n",
        "\n",
        "    # Plotting the frequency distribution of 'score' column in train_df\n",
        "    sns.histplot(train_df['Score'], kde=True, color='blue', label='Train Data')\n",
        "\n",
        "    # Plotting the frequency distribution of 'score' column in test_df\n",
        "    sns.histplot(test_df['Score'], kde=True, color='red', label='Test Data')\n",
        "\n",
        "    # Adding labels and title\n",
        "    plt.xlabel('Score')\n",
        "    plt.ylabel('Frequency')\n",
        "    plt.title(f'Comparison of Score Distributions for {languages[lang]}')\n",
        "\n",
        "    # Adding legend\n",
        "    plt.legend()\n",
        "\n",
        "    # Display the plot\n",
        "\n",
        "    plt.savefig(f\"{lang}_curve.png\")\n"
      ],
      "metadata": {
        "id": "TFSI6D3Bzy_l"
      },
      "execution_count": null,
      "outputs": []
    },
    {
      "cell_type": "code",
      "source": [
        "import os\n",
        "import zipfile\n",
        "\n",
        "# Create a list to store the filenames of the images\n",
        "image_filenames = []\n",
        "\n",
        "# Assuming you have a function plot_curve(language) that generates and saves images for each language\n",
        "for language in languages:\n",
        "    plot_curve(language)  # Generate and save the image for the current language\n",
        "    image_filenames.append(f\"{language}_curve.png\")  # Append the filename to the list\n",
        "\n",
        "# Compress the images into a zip file\n",
        "with zipfile.ZipFile('language_curves.zip', 'w') as zipf:\n",
        "    for filename in image_filenames:\n",
        "        zipf.write(filename)  # Add each image to the zip file\n",
        "\n",
        "# Download the zip file\n",
        "from google.colab import files\n",
        "files.download('language_curves.zip')\n"
      ],
      "metadata": {
        "id": "2WxMlEpE0vlU"
      },
      "execution_count": null,
      "outputs": []
    },
    {
      "cell_type": "code",
      "source": [],
      "metadata": {
        "id": "9gzYXP4y2rPG"
      },
      "execution_count": null,
      "outputs": []
    }
  ]
}